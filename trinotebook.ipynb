{
 "cells": [
  {
   "cell_type": "code",
   "execution_count": 310,
   "metadata": {},
   "outputs": [],
   "source": [
    "#import Waco 70.3 data from 2021, 2019, 2018, 2017\n",
    "\n",
    "from selenium import webdriver\n",
    "from selenium.webdriver.common.keys import Keys\n",
    "from selenium.webdriver.common.by import By\n",
    "from selenium.webdriver.support.ui import WebDriverWait\n",
    "from selenium.webdriver.support import expected_conditions as EC\n",
    "import pandas as pd\n",
    "import datetime as dt\n",
    "import numpy as np\n",
    "import plotly.express as px\n",
    "import matplotlib.pyplot as plt\n",
    "from datetime import datetime\n",
    "import seaborn\n",
    "import matplotlib.dates as mdates\n",
    "import matplotlib\n",
    "from matplotlib import dates as mpl_dates\n",
    "\n",
    "C:\\Users\\snoejovich\\OneDrive\\Tri\\TriCombine.ipynb\n",
    "C:\\Users\\snoejovich\\OneDrive\\Tri\\trinotebook.ipynb\n"
   ]
  },
  {
   "cell_type": "code",
   "execution_count": 78,
   "metadata": {},
   "outputs": [
    {
     "name": "stderr",
     "output_type": "stream",
     "text": [
      "<ipython-input-78-ccbd2e5e490f>:10: DeprecationWarning: executable_path has been deprecated, please pass in a Service object\n",
      "  driver = webdriver.Chrome(\"C:\\webdrivers\\chromedriver.exe\")\n"
     ]
    }
   ],
   "source": [
    "#driver = webdriver.Chrome()\n",
    "#driver.get(\"https://www.endurance-data.com/en/search/?s=Ironman+70.3+Waco+2019\")\n",
    "\n",
    "\n",
    "#chrome_options = Options()\n",
    "#chrome_options.add_argument(\"--disable-infobars\")\n",
    "#chrome_options.add_argument(\"disable-infobars\")\n",
    "#driver = webdriver.Chrome(executable_path= \"C:\\webdrivers\")\n",
    "\n",
    "driver = webdriver.Chrome(\"C:\\webdrivers\\chromedriver.exe\")\n",
    "driver.maximize_window()\n",
    "wait = WebDriverWait(driver, 30)\n",
    "page = driver.get(\"https://www.endurance-data.com/en/results/608-ironman-703-waco/all/\")\n"
   ]
  },
  {
   "cell_type": "markdown",
   "metadata": {},
   "source": [
    "# Only Works for One Page"
   ]
  },
  {
   "cell_type": "code",
   "execution_count": 1,
   "metadata": {},
   "outputs": [
    {
     "data": {
      "text/plain": [
       "50"
      ]
     },
     "execution_count": 1,
     "metadata": {},
     "output_type": "execute_result"
    }
   ],
   "source": [
    "import requests, bs4, os\n",
    "from bs4 import BeautifulSoup\n",
    "res = requests.get('https://www.endurance-data.com/en/results/608-ironman-703-waco/all/1')\n",
    "\n",
    "#soup = BeautifulSoup(res.content, 'lxml')\n",
    "\n",
    "#content.status_code\n",
    "\n",
    "soup = BeautifulSoup(res.content, 'html.parser')\n",
    "\n",
    "table2 = soup.find_all('tr', {'class': 'pointer'})\n",
    "\n",
    "athletes = []\n",
    "\n",
    "for row in list(range(0, len(table2))):\n",
    "    athlete = table2[row]\n",
    "    sv = str(table2[row]).split('<td class=\"text-nowrap\"')\n",
    "    start_list = sv[1:]\n",
    "    string = ' '.join([str(item) for item in start_list])\n",
    "    final_list = string.replace('</td>\\n ', '').replace('</td>', '').split('>')\n",
    "\n",
    "    athletes.append(final_list)\n",
    "\n",
    "\n",
    "len(athletes) #only does this for 50 atheletes. need to repeat for 31 pages"
   ]
  },
  {
   "cell_type": "code",
   "execution_count": 309,
   "metadata": {},
   "outputs": [
    {
     "data": {
      "text/plain": [
       "['',\n",
       " '1',\n",
       " '1',\n",
       " '1',\n",
       " '<a class=\"text-dark\" href=\"/en/result/608/1705-martin-gallardo/\"',\n",
       " 'Martin Gallardo</a',\n",
       " ' ',\n",
       " '1705',\n",
       " 'M25-29',\n",
       " 'ARG\\n<!-- <td',\n",
       " 'M--',\n",
       " ' ',\n",
       " '00:29:20 ',\n",
       " '02:12:53 ',\n",
       " '01:25:14 ',\n",
       " '04:13:35\\n</tr',\n",
       " '']"
      ]
     },
     "execution_count": 309,
     "metadata": {},
     "output_type": "execute_result"
    }
   ],
   "source": [
    "sv = str(table2[0]).split('<td class=\"text-nowrap\"')\n",
    "start_list = sv[1:]\n",
    "string = ' '.join([str(item) for item in start_list])\n",
    "\n",
    "#s = ''.join(ch for ch in string if ch.isalnum())\n",
    "#print(s)\n",
    "\n",
    "#string.replace('</td>\\n >', ',').replace('</td>', ',').replace('>', '').replace('<a class=\"text-dark\" href=\"/en/result/', '').replace('\\n</tr', '')\n",
    "\n",
    "#string.split()\n",
    "\n",
    "\n",
    "# to_remove = '</td>\\n'\n",
    "# to_remove2 = '</td>'\n",
    "# to_remove3 = '</td>\\n</tr>'\n",
    "# to_remove4 = '>'\n",
    "\n",
    "# for ele in range(1, len(start_list)):\n",
    "#     start_list[ele] = ele.replace(to_remove, '')\n",
    "#     start_list[ele] = ele.replace(to_remove2, '')\n",
    "#     start_list[ele] = ele.replace(to_remove3, '')\n",
    "#     start_list[ele] = ele.replace(to_remove4, '')\n",
    "\n",
    "    \n",
    "# range(1, len(start_list))\n",
    "\n",
    "\n",
    "string.replace('</td>\\n ', '').replace('</td>', '').split('>')\n"
   ]
  },
  {
   "cell_type": "code",
   "execution_count": 326,
   "metadata": {},
   "outputs": [],
   "source": [
    "# athletes = []\n",
    "\n",
    "# for row in range(0, len(table2)):\n",
    "#     athlete = table2[row]\n",
    "#     sv = str(table2[0]).split('<td class=\"text-nowrap\"')\n",
    "#     start_list = sv[1:]\n",
    "#     string = ' '.join([str(item) for item in start_list])\n",
    "#     final_list = string.replace('</td>\\n ', '').replace('</td>', '').split('>')\n",
    "\n",
    "#     athletes.append(final_list)\n",
    "\n"
   ]
  },
  {
   "cell_type": "code",
   "execution_count": 321,
   "metadata": {},
   "outputs": [],
   "source": [
    "athletes = []\n",
    "\n",
    "for row in list(range(0, len(table2))):\n",
    "    athlete = table2[row]\n",
    "    sv = str(table2[row]).split('<td class=\"text-nowrap\"')\n",
    "    start_list = sv[1:]\n",
    "    string = ' '.join([str(item) for item in start_list])\n",
    "    final_list = string.replace('</td>\\n ', '').replace('</td>', '').split('>')\n",
    "\n",
    "    athletes.append(final_list)"
   ]
  },
  {
   "cell_type": "code",
   "execution_count": 327,
   "metadata": {},
   "outputs": [
    {
     "data": {
      "text/plain": [
       "50"
      ]
     },
     "execution_count": 327,
     "metadata": {},
     "output_type": "execute_result"
    }
   ],
   "source": [
    "len(athletes) #only does this for 50 atheletes. need to repeat for 31 pages"
   ]
  },
  {
   "cell_type": "markdown",
   "metadata": {},
   "source": [
    "# Figure out button click using selenium "
   ]
  },
  {
   "cell_type": "code",
   "execution_count": 34,
   "metadata": {},
   "outputs": [
    {
     "name": "stderr",
     "output_type": "stream",
     "text": [
      "<ipython-input-34-e4722bb7a80d>:9: DeprecationWarning: executable_path has been deprecated, please pass in a Service object\n",
      "  driver = webdriver.Chrome(options=options, executable_path = os.getcwd() + \"\\webdrivers\\chromedriver.exe\")\n"
     ]
    },
    {
     "ename": "WebDriverException",
     "evalue": "Message: chrome not reachable\n  (Session info: chrome=102.0.5005.115)\nStacktrace:\nBacktrace:\n\tOrdinal0 [0x0112D953+2414931]\n\tOrdinal0 [0x010BF5E1+1963489]\n\tOrdinal0 [0x00FAC580+836992]\n\tOrdinal0 [0x00FA01E2+786914]\n\tOrdinal0 [0x00FA0A18+789016]\n\tOrdinal0 [0x00FA22F2+795378]\n\tOrdinal0 [0x00F9BCA9+769193]\n\tOrdinal0 [0x00FADA30+842288]\n\tOrdinal0 [0x01003FF2+1196018]\n\tOrdinal0 [0x00FF42B6+1131190]\n\tOrdinal0 [0x00FCE860+976992]\n\tOrdinal0 [0x00FCF756+980822]\n\tGetHandleVerifier [0x0139CC62+2510274]\n\tGetHandleVerifier [0x0138F760+2455744]\n\tGetHandleVerifier [0x011BEABA+551962]\n\tGetHandleVerifier [0x011BD916+547446]\n\tOrdinal0 [0x010C5F3B+1990459]\n\tOrdinal0 [0x010CA898+2009240]\n\tOrdinal0 [0x010CA985+2009477]\n\tOrdinal0 [0x010D3AD1+2046673]\n\tBaseThreadInitThunk [0x76486739+25]\n\tRtlGetFullPathName_UEx [0x77DE8FEF+1215]\n\tRtlGetFullPathName_UEx [0x77DE8FBD+1165]\n",
     "output_type": "error",
     "traceback": [
      "\u001b[1;31m---------------------------------------------------------------------------\u001b[0m",
      "\u001b[1;31mWebDriverException\u001b[0m                        Traceback (most recent call last)",
      "\u001b[1;32m<ipython-input-34-e4722bb7a80d>\u001b[0m in \u001b[0;36m<module>\u001b[1;34m\u001b[0m\n\u001b[0;32m     13\u001b[0m \u001b[1;33m\u001b[0m\u001b[0m\n\u001b[0;32m     14\u001b[0m \u001b[1;31m# Opening the website\u001b[0m\u001b[1;33m\u001b[0m\u001b[1;33m\u001b[0m\u001b[1;33m\u001b[0m\u001b[0m\n\u001b[1;32m---> 15\u001b[1;33m \u001b[0mdriver\u001b[0m\u001b[1;33m.\u001b[0m\u001b[0mget\u001b[0m\u001b[1;33m(\u001b[0m\u001b[0murl\u001b[0m\u001b[1;33m)\u001b[0m\u001b[1;33m\u001b[0m\u001b[1;33m\u001b[0m\u001b[0m\n\u001b[0m\u001b[0;32m     16\u001b[0m \u001b[1;33m\u001b[0m\u001b[0m\n\u001b[0;32m     17\u001b[0m \u001b[1;31m# getting the button by class name\u001b[0m\u001b[1;33m\u001b[0m\u001b[1;33m\u001b[0m\u001b[1;33m\u001b[0m\u001b[0m\n",
      "\u001b[1;32m~\\Anaconda3\\lib\\site-packages\\selenium\\webdriver\\remote\\webdriver.py\u001b[0m in \u001b[0;36mget\u001b[1;34m(self, url)\u001b[0m\n\u001b[0;32m    440\u001b[0m         \u001b[0mLoads\u001b[0m \u001b[0ma\u001b[0m \u001b[0mweb\u001b[0m \u001b[0mpage\u001b[0m \u001b[1;32min\u001b[0m \u001b[0mthe\u001b[0m \u001b[0mcurrent\u001b[0m \u001b[0mbrowser\u001b[0m \u001b[0msession\u001b[0m\u001b[1;33m.\u001b[0m\u001b[1;33m\u001b[0m\u001b[1;33m\u001b[0m\u001b[0m\n\u001b[0;32m    441\u001b[0m         \"\"\"\n\u001b[1;32m--> 442\u001b[1;33m         \u001b[0mself\u001b[0m\u001b[1;33m.\u001b[0m\u001b[0mexecute\u001b[0m\u001b[1;33m(\u001b[0m\u001b[0mCommand\u001b[0m\u001b[1;33m.\u001b[0m\u001b[0mGET\u001b[0m\u001b[1;33m,\u001b[0m \u001b[1;33m{\u001b[0m\u001b[1;34m'url'\u001b[0m\u001b[1;33m:\u001b[0m \u001b[0murl\u001b[0m\u001b[1;33m}\u001b[0m\u001b[1;33m)\u001b[0m\u001b[1;33m\u001b[0m\u001b[1;33m\u001b[0m\u001b[0m\n\u001b[0m\u001b[0;32m    443\u001b[0m \u001b[1;33m\u001b[0m\u001b[0m\n\u001b[0;32m    444\u001b[0m     \u001b[1;33m@\u001b[0m\u001b[0mproperty\u001b[0m\u001b[1;33m\u001b[0m\u001b[1;33m\u001b[0m\u001b[0m\n",
      "\u001b[1;32m~\\Anaconda3\\lib\\site-packages\\selenium\\webdriver\\remote\\webdriver.py\u001b[0m in \u001b[0;36mexecute\u001b[1;34m(self, driver_command, params)\u001b[0m\n\u001b[0;32m    428\u001b[0m         \u001b[0mresponse\u001b[0m \u001b[1;33m=\u001b[0m \u001b[0mself\u001b[0m\u001b[1;33m.\u001b[0m\u001b[0mcommand_executor\u001b[0m\u001b[1;33m.\u001b[0m\u001b[0mexecute\u001b[0m\u001b[1;33m(\u001b[0m\u001b[0mdriver_command\u001b[0m\u001b[1;33m,\u001b[0m \u001b[0mparams\u001b[0m\u001b[1;33m)\u001b[0m\u001b[1;33m\u001b[0m\u001b[1;33m\u001b[0m\u001b[0m\n\u001b[0;32m    429\u001b[0m         \u001b[1;32mif\u001b[0m \u001b[0mresponse\u001b[0m\u001b[1;33m:\u001b[0m\u001b[1;33m\u001b[0m\u001b[1;33m\u001b[0m\u001b[0m\n\u001b[1;32m--> 430\u001b[1;33m             \u001b[0mself\u001b[0m\u001b[1;33m.\u001b[0m\u001b[0merror_handler\u001b[0m\u001b[1;33m.\u001b[0m\u001b[0mcheck_response\u001b[0m\u001b[1;33m(\u001b[0m\u001b[0mresponse\u001b[0m\u001b[1;33m)\u001b[0m\u001b[1;33m\u001b[0m\u001b[1;33m\u001b[0m\u001b[0m\n\u001b[0m\u001b[0;32m    431\u001b[0m             response['value'] = self._unwrap_value(\n\u001b[0;32m    432\u001b[0m                 response.get('value', None))\n",
      "\u001b[1;32m~\\Anaconda3\\lib\\site-packages\\selenium\\webdriver\\remote\\errorhandler.py\u001b[0m in \u001b[0;36mcheck_response\u001b[1;34m(self, response)\u001b[0m\n\u001b[0;32m    245\u001b[0m                 \u001b[0malert_text\u001b[0m \u001b[1;33m=\u001b[0m \u001b[0mvalue\u001b[0m\u001b[1;33m[\u001b[0m\u001b[1;34m'alert'\u001b[0m\u001b[1;33m]\u001b[0m\u001b[1;33m.\u001b[0m\u001b[0mget\u001b[0m\u001b[1;33m(\u001b[0m\u001b[1;34m'text'\u001b[0m\u001b[1;33m)\u001b[0m\u001b[1;33m\u001b[0m\u001b[1;33m\u001b[0m\u001b[0m\n\u001b[0;32m    246\u001b[0m             \u001b[1;32mraise\u001b[0m \u001b[0mexception_class\u001b[0m\u001b[1;33m(\u001b[0m\u001b[0mmessage\u001b[0m\u001b[1;33m,\u001b[0m \u001b[0mscreen\u001b[0m\u001b[1;33m,\u001b[0m \u001b[0mstacktrace\u001b[0m\u001b[1;33m,\u001b[0m \u001b[0malert_text\u001b[0m\u001b[1;33m)\u001b[0m  \u001b[1;31m# type: ignore[call-arg]  # mypy is not smart enough here\u001b[0m\u001b[1;33m\u001b[0m\u001b[1;33m\u001b[0m\u001b[0m\n\u001b[1;32m--> 247\u001b[1;33m         \u001b[1;32mraise\u001b[0m \u001b[0mexception_class\u001b[0m\u001b[1;33m(\u001b[0m\u001b[0mmessage\u001b[0m\u001b[1;33m,\u001b[0m \u001b[0mscreen\u001b[0m\u001b[1;33m,\u001b[0m \u001b[0mstacktrace\u001b[0m\u001b[1;33m)\u001b[0m\u001b[1;33m\u001b[0m\u001b[1;33m\u001b[0m\u001b[0m\n\u001b[0m\u001b[0;32m    248\u001b[0m \u001b[1;33m\u001b[0m\u001b[0m\n\u001b[0;32m    249\u001b[0m     \u001b[1;32mdef\u001b[0m \u001b[0m_value_or_default\u001b[0m\u001b[1;33m(\u001b[0m\u001b[0mself\u001b[0m\u001b[1;33m,\u001b[0m \u001b[0mobj\u001b[0m\u001b[1;33m:\u001b[0m \u001b[0mMapping\u001b[0m\u001b[1;33m[\u001b[0m\u001b[0m_KT\u001b[0m\u001b[1;33m,\u001b[0m \u001b[0m_VT\u001b[0m\u001b[1;33m]\u001b[0m\u001b[1;33m,\u001b[0m \u001b[0mkey\u001b[0m\u001b[1;33m:\u001b[0m \u001b[0m_KT\u001b[0m\u001b[1;33m,\u001b[0m \u001b[0mdefault\u001b[0m\u001b[1;33m:\u001b[0m \u001b[0m_VT\u001b[0m\u001b[1;33m)\u001b[0m \u001b[1;33m->\u001b[0m \u001b[0m_VT\u001b[0m\u001b[1;33m:\u001b[0m\u001b[1;33m\u001b[0m\u001b[1;33m\u001b[0m\u001b[0m\n",
      "\u001b[1;31mWebDriverException\u001b[0m: Message: chrome not reachable\n  (Session info: chrome=102.0.5005.115)\nStacktrace:\nBacktrace:\n\tOrdinal0 [0x0112D953+2414931]\n\tOrdinal0 [0x010BF5E1+1963489]\n\tOrdinal0 [0x00FAC580+836992]\n\tOrdinal0 [0x00FA01E2+786914]\n\tOrdinal0 [0x00FA0A18+789016]\n\tOrdinal0 [0x00FA22F2+795378]\n\tOrdinal0 [0x00F9BCA9+769193]\n\tOrdinal0 [0x00FADA30+842288]\n\tOrdinal0 [0x01003FF2+1196018]\n\tOrdinal0 [0x00FF42B6+1131190]\n\tOrdinal0 [0x00FCE860+976992]\n\tOrdinal0 [0x00FCF756+980822]\n\tGetHandleVerifier [0x0139CC62+2510274]\n\tGetHandleVerifier [0x0138F760+2455744]\n\tGetHandleVerifier [0x011BEABA+551962]\n\tGetHandleVerifier [0x011BD916+547446]\n\tOrdinal0 [0x010C5F3B+1990459]\n\tOrdinal0 [0x010CA898+2009240]\n\tOrdinal0 [0x010CA985+2009477]\n\tOrdinal0 [0x010D3AD1+2046673]\n\tBaseThreadInitThunk [0x76486739+25]\n\tRtlGetFullPathName_UEx [0x77DE8FEF+1215]\n\tRtlGetFullPathName_UEx [0x77DE8FBD+1165]\n"
     ]
    }
   ],
   "source": [
    "# importing webdriver from selenium\n",
    "from selenium import webdriver\n",
    "#from selenium.webdriver.chrome.options import Options\n",
    "options = webdriver.ChromeOptions()\n",
    "\n",
    "import os\n",
    "\n",
    "# Here Chrome  will be used\n",
    "driver = webdriver.Chrome(options=options, executable_path = os.getcwd() + \"\\webdrivers\\chromedriver.exe\")\n",
    " \n",
    "# URL of website\n",
    "url = \"https://www.endurance-data.com/en/results/608-ironman-703-waco/all/\"\n",
    " \n",
    "# Opening the website\n",
    "driver.get(url)\n",
    " \n",
    "# getting the button by class name\n",
    "button = driver.find_element_by_class_name(\"page-item\")\n",
    " \n",
    "# clicking on the button\n",
    "button.click()"
   ]
  },
  {
   "cell_type": "code",
   "execution_count": 35,
   "metadata": {},
   "outputs": [],
   "source": [
    "s = requests.get('https://www.endurance-data.com/en/results/608-ironman-703-waco/all/1')\n"
   ]
  },
  {
   "cell_type": "code",
   "execution_count": 36,
   "metadata": {},
   "outputs": [],
   "source": [
    "link = 'https://www.endurance-data.com/en/results/608-ironman-703-waco/all/1'"
   ]
  },
  {
   "cell_type": "code",
   "execution_count": 52,
   "metadata": {},
   "outputs": [],
   "source": [
    "#ls = list(range(1,31))\n",
    "athletes = []\n",
    "for el in list(range(1,31)):\n",
    "    nm = str(el)\n",
    "    link = 'https://www.endurance-data.com/en/results/608-ironman-703-waco/all/' + nm\n",
    "\n",
    "    res = requests.get(link)\n",
    "\n",
    "    soup = BeautifulSoup(res.content, 'html.parser')\n",
    "\n",
    "    table = soup.find_all('tr', {'class': 'pointer'})\n",
    "\n",
    "    for row in list(range(0, len(table2))):\n",
    "        athlete = table[row]\n",
    "        sv = str(table[row]).split('<td class=\"text-nowrap\"')\n",
    "        start_list = sv[1:]\n",
    "        string = ' '.join([str(item) for item in start_list])\n",
    "        final_list = string.replace('</td>\\n ', '').replace('</td>', '').split('>')\n",
    "\n",
    "        athletes.append(final_list)\n",
    "\n",
    "\n",
    "    len(athletes) #only does this for 50 atheletes. need to repeat for 31 pages"
   ]
  },
  {
   "cell_type": "code",
   "execution_count": 357,
   "metadata": {},
   "outputs": [
    {
     "data": {
      "text/html": [
       "<div>\n",
       "<style scoped>\n",
       "    .dataframe tbody tr th:only-of-type {\n",
       "        vertical-align: middle;\n",
       "    }\n",
       "\n",
       "    .dataframe tbody tr th {\n",
       "        vertical-align: top;\n",
       "    }\n",
       "\n",
       "    .dataframe thead th {\n",
       "        text-align: right;\n",
       "    }\n",
       "</style>\n",
       "<table border=\"1\" class=\"dataframe\">\n",
       "  <thead>\n",
       "    <tr style=\"text-align: right;\">\n",
       "      <th></th>\n",
       "      <th>Overall Rank</th>\n",
       "      <th>Gender Rank</th>\n",
       "      <th>Divison Rank</th>\n",
       "      <th>Name</th>\n",
       "      <th>Age Group</th>\n",
       "      <th>Nationality</th>\n",
       "      <th>Swim Time</th>\n",
       "      <th>Bike Time</th>\n",
       "      <th>Run Time</th>\n",
       "      <th>Total Time</th>\n",
       "      <th>Sex</th>\n",
       "      <th>Year</th>\n",
       "    </tr>\n",
       "  </thead>\n",
       "  <tbody>\n",
       "    <tr>\n",
       "      <th>0</th>\n",
       "      <td>1</td>\n",
       "      <td>1</td>\n",
       "      <td>1</td>\n",
       "      <td>Martin Gallardo</td>\n",
       "      <td>25-29</td>\n",
       "      <td>ARG</td>\n",
       "      <td>00:29:20</td>\n",
       "      <td>02:12:53</td>\n",
       "      <td>01:25:14</td>\n",
       "      <td>04:13:3</td>\n",
       "      <td>M</td>\n",
       "      <td>2021</td>\n",
       "    </tr>\n",
       "    <tr>\n",
       "      <th>1</th>\n",
       "      <td>2</td>\n",
       "      <td>2</td>\n",
       "      <td>1</td>\n",
       "      <td>Brad Miles</td>\n",
       "      <td>30-34</td>\n",
       "      <td>USA</td>\n",
       "      <td>00:30:05</td>\n",
       "      <td>02:22:37</td>\n",
       "      <td>01:21:27</td>\n",
       "      <td>04:19:5</td>\n",
       "      <td>M</td>\n",
       "      <td>2021</td>\n",
       "    </tr>\n",
       "    <tr>\n",
       "      <th>2</th>\n",
       "      <td>3</td>\n",
       "      <td>3</td>\n",
       "      <td>2</td>\n",
       "      <td>Michael Chronert</td>\n",
       "      <td>25-29</td>\n",
       "      <td>USA</td>\n",
       "      <td>00:30:24</td>\n",
       "      <td>02:11:40</td>\n",
       "      <td>01:29:44</td>\n",
       "      <td>04:20:2</td>\n",
       "      <td>M</td>\n",
       "      <td>2021</td>\n",
       "    </tr>\n",
       "    <tr>\n",
       "      <th>3</th>\n",
       "      <td>4</td>\n",
       "      <td>4</td>\n",
       "      <td>3</td>\n",
       "      <td>William Derrick</td>\n",
       "      <td>25-29</td>\n",
       "      <td>USA</td>\n",
       "      <td>00:30:18</td>\n",
       "      <td>02:21:43</td>\n",
       "      <td>01:33:26</td>\n",
       "      <td>04:31:5</td>\n",
       "      <td>M</td>\n",
       "      <td>2021</td>\n",
       "    </tr>\n",
       "    <tr>\n",
       "      <th>4</th>\n",
       "      <td>5</td>\n",
       "      <td>5</td>\n",
       "      <td>1</td>\n",
       "      <td>Ryan Seguine</td>\n",
       "      <td>40-44</td>\n",
       "      <td>USA</td>\n",
       "      <td>00:30:31</td>\n",
       "      <td>02:17:03</td>\n",
       "      <td>01:39:23</td>\n",
       "      <td>04:35:1</td>\n",
       "      <td>M</td>\n",
       "      <td>2021</td>\n",
       "    </tr>\n",
       "  </tbody>\n",
       "</table>\n",
       "</div>"
      ],
      "text/plain": [
       "  Overall Rank Gender Rank Divison Rank              Name Age Group  \\\n",
       "0            1           1            1   Martin Gallardo     25-29   \n",
       "1            2           2            1        Brad Miles     30-34   \n",
       "2            3           3            2  Michael Chronert     25-29   \n",
       "3            4           4            3   William Derrick     25-29   \n",
       "4            5           5            1      Ryan Seguine     40-44   \n",
       "\n",
       "  Nationality  Swim Time  Bike Time   Run Time Total Time Sex  Year  \n",
       "0         ARG  00:29:20   02:12:53   01:25:14     04:13:3   M  2021  \n",
       "1         USA  00:30:05   02:22:37   01:21:27     04:19:5   M  2021  \n",
       "2         USA  00:30:24   02:11:40   01:29:44     04:20:2   M  2021  \n",
       "3         USA  00:30:18   02:21:43   01:33:26     04:31:5   M  2021  \n",
       "4         USA  00:30:31   02:17:03   01:39:23     04:35:1   M  2021  "
      ]
     },
     "execution_count": 357,
     "metadata": {},
     "output_type": "execute_result"
    }
   ],
   "source": [
    "df = pd.DataFrame(athletes)\n",
    "df.columns = ['DL1', 'Overall Rank', 'Gender Rank', 'Divison Rank', 'DL2', 'Name',\n",
    "'DL6', 'DL7', 'Age Group', 'Nationality', 'DL8', 'DL9','Swim Time', 'Bike Time', 'Run Time','Total Time', 'DL16']\n",
    "\n",
    "df = df.drop(['DL1', 'DL2', 'DL6', 'DL7', 'DL8', 'DL9', 'DL16'], axis = 1)\n",
    "\n",
    "df['Sex'] = df['Age Group'].str.slice(0,1)\n",
    "df['Age Group'] = df['Age Group'].str[1:]\n",
    "df['Name'] = df['Name'].str[0:-3]\n",
    "df['Nationality'] = df['Nationality'].str[0:-9]\n",
    "df['Total Time'] = df['Total Time'].str[0:-6]\n",
    "df['Year'] = 2021\n",
    "\n",
    "#df['Swim Time'] =  pd.to_datetime(df['Swim Time'])\n",
    "\n",
    "df.head()"
   ]
  },
  {
   "cell_type": "code",
   "execution_count": 358,
   "metadata": {},
   "outputs": [
    {
     "data": {
      "text/plain": [
       "<AxesSubplot:title={'center':'Age and Gender of Waco 70.3 2021'}, xlabel='Age and Gender', ylabel='Counts'>"
      ]
     },
     "execution_count": 358,
     "metadata": {},
     "output_type": "execute_result"
    },
    {
     "data": {
      "image/png": "[encoded data removed]",
      "text/plain": [
       "<Figure size 432x288 with 1 Axes>"
      ]
     },
     "metadata": {
      "needs_background": "light"
     },
     "output_type": "display_data"
    }
   ],
   "source": [
    "#gender breakdown and age breakdown \n",
    "\n",
    "#df.groupby(['Sex'])['Sex'].count()\n",
    "\n",
    "dfga = df.loc[df['Sex'] != 'X'].groupby(['Sex', 'Age Group'])['Sex'].count()\n",
    "\n",
    "dfga.plot(kind = 'bar', title = 'Age and Gender of Waco 70.3 2021', ylabel = 'Counts', xlabel = 'Age and Gender')\n",
    "\n",
    "#peak age for women contestants is 40-44 and peak age for men contestants is 30-34\n",
    "#biggest drop off for women from 40-44 age group to 44-49 age group\n",
    "#biggest drop off for men is 50-54 age group and 55-59 age group "
   ]
  },
  {
   "cell_type": "code",
   "execution_count": 359,
   "metadata": {},
   "outputs": [],
   "source": [
    "#distribution of female swim, bike, and run times \n",
    "\n",
    "# gender_list = ['F']\n",
    "\n",
    "# dfswim = df.loc[df['Sex'].isin(gender_list)].groupby(['Age Group'])['Swim Time']\n",
    "\n",
    "# dfswim.plot(kind = 'bar', title = 'Age and Gender of Waco 70.3 2021', ylabel = 'Counts', xlabel = 'Age and Gender')\n",
    "\n",
    "\n",
    "\n",
    "#df['Swim Time'] = pd.to_datetime(df['Swim Time'])\n",
    "\n",
    "# S\n"
   ]
  },
  {
   "cell_type": "code",
   "execution_count": 360,
   "metadata": {},
   "outputs": [
    {
     "data": {
      "text/html": [
       "<div>\n",
       "<style scoped>\n",
       "    .dataframe tbody tr th:only-of-type {\n",
       "        vertical-align: middle;\n",
       "    }\n",
       "\n",
       "    .dataframe tbody tr th {\n",
       "        vertical-align: top;\n",
       "    }\n",
       "\n",
       "    .dataframe thead th {\n",
       "        text-align: right;\n",
       "    }\n",
       "</style>\n",
       "<table border=\"1\" class=\"dataframe\">\n",
       "  <thead>\n",
       "    <tr style=\"text-align: right;\">\n",
       "      <th></th>\n",
       "      <th>Overall Rank</th>\n",
       "      <th>Gender Rank</th>\n",
       "      <th>Divison Rank</th>\n",
       "      <th>Name</th>\n",
       "      <th>Age Group</th>\n",
       "      <th>Nationality</th>\n",
       "      <th>Swim Time</th>\n",
       "      <th>Bike Time</th>\n",
       "      <th>Run Time</th>\n",
       "      <th>Total Time</th>\n",
       "      <th>Sex</th>\n",
       "      <th>Year</th>\n",
       "    </tr>\n",
       "  </thead>\n",
       "  <tbody>\n",
       "    <tr>\n",
       "      <th>0</th>\n",
       "      <td>1</td>\n",
       "      <td>1</td>\n",
       "      <td>1</td>\n",
       "      <td>Martin Gallardo</td>\n",
       "      <td>25-29</td>\n",
       "      <td>ARG</td>\n",
       "      <td>2022-06-13 00:29:20</td>\n",
       "      <td>2022-06-13 02:12:53</td>\n",
       "      <td>2022-06-13 01:25:14</td>\n",
       "      <td>04:13:3</td>\n",
       "      <td>M</td>\n",
       "      <td>2021</td>\n",
       "    </tr>\n",
       "    <tr>\n",
       "      <th>1</th>\n",
       "      <td>2</td>\n",
       "      <td>2</td>\n",
       "      <td>1</td>\n",
       "      <td>Brad Miles</td>\n",
       "      <td>30-34</td>\n",
       "      <td>USA</td>\n",
       "      <td>2022-06-13 00:30:05</td>\n",
       "      <td>2022-06-13 02:22:37</td>\n",
       "      <td>2022-06-13 01:21:27</td>\n",
       "      <td>04:19:5</td>\n",
       "      <td>M</td>\n",
       "      <td>2021</td>\n",
       "    </tr>\n",
       "    <tr>\n",
       "      <th>2</th>\n",
       "      <td>3</td>\n",
       "      <td>3</td>\n",
       "      <td>2</td>\n",
       "      <td>Michael Chronert</td>\n",
       "      <td>25-29</td>\n",
       "      <td>USA</td>\n",
       "      <td>2022-06-13 00:30:24</td>\n",
       "      <td>2022-06-13 02:11:40</td>\n",
       "      <td>2022-06-13 01:29:44</td>\n",
       "      <td>04:20:2</td>\n",
       "      <td>M</td>\n",
       "      <td>2021</td>\n",
       "    </tr>\n",
       "    <tr>\n",
       "      <th>3</th>\n",
       "      <td>4</td>\n",
       "      <td>4</td>\n",
       "      <td>3</td>\n",
       "      <td>William Derrick</td>\n",
       "      <td>25-29</td>\n",
       "      <td>USA</td>\n",
       "      <td>2022-06-13 00:30:18</td>\n",
       "      <td>2022-06-13 02:21:43</td>\n",
       "      <td>2022-06-13 01:33:26</td>\n",
       "      <td>04:31:5</td>\n",
       "      <td>M</td>\n",
       "      <td>2021</td>\n",
       "    </tr>\n",
       "    <tr>\n",
       "      <th>4</th>\n",
       "      <td>5</td>\n",
       "      <td>5</td>\n",
       "      <td>1</td>\n",
       "      <td>Ryan Seguine</td>\n",
       "      <td>40-44</td>\n",
       "      <td>USA</td>\n",
       "      <td>2022-06-13 00:30:31</td>\n",
       "      <td>2022-06-13 02:17:03</td>\n",
       "      <td>2022-06-13 01:39:23</td>\n",
       "      <td>04:35:1</td>\n",
       "      <td>M</td>\n",
       "      <td>2021</td>\n",
       "    </tr>\n",
       "  </tbody>\n",
       "</table>\n",
       "</div>"
      ],
      "text/plain": [
       "  Overall Rank Gender Rank Divison Rank              Name Age Group  \\\n",
       "0            1           1            1   Martin Gallardo     25-29   \n",
       "1            2           2            1        Brad Miles     30-34   \n",
       "2            3           3            2  Michael Chronert     25-29   \n",
       "3            4           4            3   William Derrick     25-29   \n",
       "4            5           5            1      Ryan Seguine     40-44   \n",
       "\n",
       "  Nationality           Swim Time           Bike Time            Run Time  \\\n",
       "0         ARG 2022-06-13 00:29:20 2022-06-13 02:12:53 2022-06-13 01:25:14   \n",
       "1         USA 2022-06-13 00:30:05 2022-06-13 02:22:37 2022-06-13 01:21:27   \n",
       "2         USA 2022-06-13 00:30:24 2022-06-13 02:11:40 2022-06-13 01:29:44   \n",
       "3         USA 2022-06-13 00:30:18 2022-06-13 02:21:43 2022-06-13 01:33:26   \n",
       "4         USA 2022-06-13 00:30:31 2022-06-13 02:17:03 2022-06-13 01:39:23   \n",
       "\n",
       "  Total Time Sex  Year  \n",
       "0    04:13:3   M  2021  \n",
       "1    04:19:5   M  2021  \n",
       "2    04:20:2   M  2021  \n",
       "3    04:31:5   M  2021  \n",
       "4    04:35:1   M  2021  "
      ]
     },
     "execution_count": 360,
     "metadata": {},
     "output_type": "execute_result"
    }
   ],
   "source": [
    "#epoch_time = datetime(1970,1,1)\n",
    "\n",
    "df['Swim Time'] = pd.to_datetime(df['Swim Time'])\n",
    "df['Bike Time'] = pd.to_datetime(df['Bike Time'])\n",
    "df['Run Time'] = pd.to_datetime(df['Run Time'])\n",
    "\n",
    "\n",
    "\n",
    "#df['Delta Swim'] = df['Swim Time'] - epoch_time \n",
    "\n",
    "df.head()\n",
    "\n"
   ]
  },
  {
   "cell_type": "code",
   "execution_count": 361,
   "metadata": {},
   "outputs": [
    {
     "data": {
      "text/plain": [
       "Text(0.5, 1.0, 'Overall Swim Time')"
      ]
     },
     "execution_count": 361,
     "metadata": {},
     "output_type": "execute_result"
    },
    {
     "data": {
      "image/png": "[encoded data removed]",
      "text/plain": [
       "<Figure size 720x432 with 1 Axes>"
      ]
     },
     "metadata": {
      "needs_background": "light"
     },
     "output_type": "display_data"
    }
   ],
   "source": [
    "#fig, ax = plt.subplots()\n",
    "import matplotlib.dates as mdates\n",
    "import matplotlib\n",
    "from matplotlib import dates as mpl_dates\n",
    "\n",
    "\n",
    "#myFmt = mdates.DateFormatter('%H:%M')\n",
    "#ax.xaxis.set_major_formatter(myFmt)\n",
    "\n",
    "#date_format = \n",
    "\n",
    "plt.figure(1, figsize = (10,6))\n",
    "plt.hist(df['Swim Time'], bins =15)\n",
    "\n",
    "date_format = mpl_dates.DateFormatter('%H:%M')\n",
    "plt.gca().xaxis.set_major_formatter(date_format)\n",
    "plt.xlabel('Swim Time')\n",
    "plt.ylabel('Count')\n",
    "plt.title('Overall Swim Time')\n",
    "\n",
    "#ax.set_xticks(ticks)\n"
   ]
  },
  {
   "cell_type": "code",
   "execution_count": 362,
   "metadata": {},
   "outputs": [
    {
     "data": {
      "text/plain": [
       "Text(0.5, 1.0, 'Overall Swim Time')"
      ]
     },
     "execution_count": 362,
     "metadata": {},
     "output_type": "execute_result"
    },
    {
     "data": {
      "image/png": "[encoded data removed]",
      "text/plain": [
       "<Figure size 720x432 with 1 Axes>"
      ]
     },
     "metadata": {
      "needs_background": "light"
     },
     "output_type": "display_data"
    }
   ],
   "source": [
    "#fig, ax = plt.subplots()\n",
    "import matplotlib.dates as mdates\n",
    "import matplotlib\n",
    "from matplotlib import dates as mpl_dates\n",
    "\n",
    "\n",
    "#myFmt = mdates.DateFormatter('%H:%M')\n",
    "#ax.xaxis.set_major_formatter(myFmt)\n",
    "\n",
    "#date_format = \n",
    "\n",
    "plt.figure(1, figsize = (10,6))\n",
    "plt.hist(df['Bike Time'], bins =15)\n",
    "\n",
    "date_format = mpl_dates.DateFormatter('%H:%M')\n",
    "plt.gca().xaxis.set_major_formatter(date_format)\n",
    "plt.xlabel('Bike Time')\n",
    "plt.ylabel('Count')\n",
    "plt.title('Overall Swim Time')"
   ]
  },
  {
   "cell_type": "code",
   "execution_count": 348,
   "metadata": {},
   "outputs": [
    {
     "data": {
      "image/png": "[encoded data removed]",
      "text/plain": [
       "<Figure size 1944x216 with 3 Axes>"
      ]
     },
     "metadata": {
      "needs_background": "light"
     },
     "output_type": "display_data"
    }
   ],
   "source": [
    "#swim times by gender \n",
    "\n",
    "g = seaborn.FacetGrid(df, col = 'Sex', aspect = 3 )\n",
    "\n",
    "g.map(seaborn.histplot,'Swim Time')\n",
    "\n",
    "date_format = mpl_dates.DateFormatter('%H:%M')\n",
    "plt.gca().xaxis.set_major_formatter(date_format)"
   ]
  },
  {
   "cell_type": "code",
   "execution_count": 364,
   "metadata": {},
   "outputs": [
    {
     "data": {
      "image/png": "[encoded data removed]",
      "text/plain": [
       "<Figure size 1944x216 with 3 Axes>"
      ]
     },
     "metadata": {
      "needs_background": "light"
     },
     "output_type": "display_data"
    }
   ],
   "source": [
    "#swim times by gender \n",
    "\n",
    "g = seaborn.FacetGrid(df, col = 'Sex', aspect = 3 )\n",
    "\n",
    "g.map(seaborn.histplot,'Bike Time')\n",
    "\n",
    "date_format = mpl_dates.DateFormatter('%H:%M')\n",
    "plt.gca().xaxis.set_major_formatter(date_format)"
   ]
  },
  {
   "cell_type": "code",
   "execution_count": 365,
   "metadata": {},
   "outputs": [
    {
     "data": {
      "image/png": "[encoded data removed]",
      "text/plain": [
       "<Figure size 1944x216 with 3 Axes>"
      ]
     },
     "metadata": {
      "needs_background": "light"
     },
     "output_type": "display_data"
    }
   ],
   "source": [
    "#swim times by gender \n",
    "\n",
    "g = seaborn.FacetGrid(df, col = 'Sex', aspect = 3 )\n",
    "\n",
    "g.map(seaborn.histplot,'Run Time')\n",
    "\n",
    "date_format = mpl_dates.DateFormatter('%H:%M')\n",
    "plt.gca().xaxis.set_major_formatter(date_format)"
   ]
  },
  {
   "cell_type": "code",
   "execution_count": 377,
   "metadata": {},
   "outputs": [],
   "source": [
    "df_as = df[(df['Sex'] == 'F') & (df['Age Group'] == '18-24')]"
   ]
  },
  {
   "cell_type": "code",
   "execution_count": 386,
   "metadata": {},
   "outputs": [
    {
     "data": {
      "text/plain": [
       "Text(0.5, 1.0, 'Swim Time F A18-24')"
      ]
     },
     "execution_count": 386,
     "metadata": {},
     "output_type": "execute_result"
    },
    {
     "data": {
      "image/png": "[encoded data removed]",
      "text/plain": [
       "<Figure size 720x432 with 1 Axes>"
      ]
     },
     "metadata": {
      "needs_background": "light"
     },
     "output_type": "display_data"
    }
   ],
   "source": [
    "\n",
    "plt.figure(1, figsize = (10,6))\n",
    "plt.hist(df_as['Swim Time'], bins =10)\n",
    "\n",
    "date_format = mpl_dates.DateFormatter('%H:%M')\n",
    "plt.gca().xaxis.set_major_formatter(date_format)\n",
    "plt.xlabel('Swim Time')\n",
    "plt.ylabel('Count')\n",
    "plt.title('Swim Time F A18-24')\n",
    "\n"
   ]
  },
  {
   "cell_type": "code",
   "execution_count": 387,
   "metadata": {},
   "outputs": [
    {
     "data": {
      "text/plain": [
       "Text(0.5, 1.0, 'Bike Time F A18-24')"
      ]
     },
     "execution_count": 387,
     "metadata": {},
     "output_type": "execute_result"
    },
    {
     "data": {
      "image/png": "[encoded data removed]",
      "text/plain": [
       "<Figure size 720x432 with 1 Axes>"
      ]
     },
     "metadata": {
      "needs_background": "light"
     },
     "output_type": "display_data"
    }
   ],
   "source": [
    "plt.figure(1, figsize = (10,6))\n",
    "plt.hist(df_as['Bike Time'], bins =10)\n",
    "\n",
    "date_format = mpl_dates.DateFormatter('%H:%M')\n",
    "plt.gca().xaxis.set_major_formatter(date_format)\n",
    "plt.xlabel('Bike Time')\n",
    "plt.ylabel('Count')\n",
    "plt.title('Bike Time F A18-24')"
   ]
  },
  {
   "cell_type": "code",
   "execution_count": 390,
   "metadata": {},
   "outputs": [
    {
     "data": {
      "text/plain": [
       "Text(0.5, 1.0, 'Run Time F A18-24')"
      ]
     },
     "execution_count": 390,
     "metadata": {},
     "output_type": "execute_result"
    },
    {
     "data": {
      "image/png": "[encoded data removed]",
      "text/plain": [
       "<Figure size 720x432 with 1 Axes>"
      ]
     },
     "metadata": {
      "needs_background": "light"
     },
     "output_type": "display_data"
    }
   ],
   "source": [
    "\n",
    "plt.figure(1, figsize = (10,6))\n",
    "plt.hist(df_as['Run Time'], bins =10)\n",
    "\n",
    "date_format = mpl_dates.DateFormatter('%H:%M')\n",
    "plt.gca().xaxis.set_major_formatter(date_format)\n",
    "plt.xlabel('Run Time')\n",
    "plt.ylabel('Count')\n",
    "plt.title('Run Time F A18-24')"
   ]
  },
  {
   "cell_type": "code",
   "execution_count": 391,
   "metadata": {},
   "outputs": [
    {
     "data": {
      "text/html": [
       "<div>\n",
       "<style scoped>\n",
       "    .dataframe tbody tr th:only-of-type {\n",
       "        vertical-align: middle;\n",
       "    }\n",
       "\n",
       "    .dataframe tbody tr th {\n",
       "        vertical-align: top;\n",
       "    }\n",
       "\n",
       "    .dataframe thead th {\n",
       "        text-align: right;\n",
       "    }\n",
       "</style>\n",
       "<table border=\"1\" class=\"dataframe\">\n",
       "  <thead>\n",
       "    <tr style=\"text-align: right;\">\n",
       "      <th></th>\n",
       "      <th>Overall Rank</th>\n",
       "      <th>Gender Rank</th>\n",
       "      <th>Divison Rank</th>\n",
       "      <th>Name</th>\n",
       "      <th>Age Group</th>\n",
       "      <th>Nationality</th>\n",
       "      <th>Swim Time</th>\n",
       "      <th>Bike Time</th>\n",
       "      <th>Run Time</th>\n",
       "      <th>Total Time</th>\n",
       "      <th>Sex</th>\n",
       "      <th>Year</th>\n",
       "    </tr>\n",
       "  </thead>\n",
       "  <tbody>\n",
       "    <tr>\n",
       "      <th>0</th>\n",
       "      <td>1</td>\n",
       "      <td>1</td>\n",
       "      <td>1</td>\n",
       "      <td>Martin Gallardo</td>\n",
       "      <td>25-29</td>\n",
       "      <td>ARG</td>\n",
       "      <td>2022-06-13 00:29:20</td>\n",
       "      <td>2022-06-13 02:12:53</td>\n",
       "      <td>2022-06-13 01:25:14</td>\n",
       "      <td>04:13:3</td>\n",
       "      <td>M</td>\n",
       "      <td>2021</td>\n",
       "    </tr>\n",
       "    <tr>\n",
       "      <th>1</th>\n",
       "      <td>2</td>\n",
       "      <td>2</td>\n",
       "      <td>1</td>\n",
       "      <td>Brad Miles</td>\n",
       "      <td>30-34</td>\n",
       "      <td>USA</td>\n",
       "      <td>2022-06-13 00:30:05</td>\n",
       "      <td>2022-06-13 02:22:37</td>\n",
       "      <td>2022-06-13 01:21:27</td>\n",
       "      <td>04:19:5</td>\n",
       "      <td>M</td>\n",
       "      <td>2021</td>\n",
       "    </tr>\n",
       "    <tr>\n",
       "      <th>2</th>\n",
       "      <td>3</td>\n",
       "      <td>3</td>\n",
       "      <td>2</td>\n",
       "      <td>Michael Chronert</td>\n",
       "      <td>25-29</td>\n",
       "      <td>USA</td>\n",
       "      <td>2022-06-13 00:30:24</td>\n",
       "      <td>2022-06-13 02:11:40</td>\n",
       "      <td>2022-06-13 01:29:44</td>\n",
       "      <td>04:20:2</td>\n",
       "      <td>M</td>\n",
       "      <td>2021</td>\n",
       "    </tr>\n",
       "    <tr>\n",
       "      <th>3</th>\n",
       "      <td>4</td>\n",
       "      <td>4</td>\n",
       "      <td>3</td>\n",
       "      <td>William Derrick</td>\n",
       "      <td>25-29</td>\n",
       "      <td>USA</td>\n",
       "      <td>2022-06-13 00:30:18</td>\n",
       "      <td>2022-06-13 02:21:43</td>\n",
       "      <td>2022-06-13 01:33:26</td>\n",
       "      <td>04:31:5</td>\n",
       "      <td>M</td>\n",
       "      <td>2021</td>\n",
       "    </tr>\n",
       "    <tr>\n",
       "      <th>4</th>\n",
       "      <td>5</td>\n",
       "      <td>5</td>\n",
       "      <td>1</td>\n",
       "      <td>Ryan Seguine</td>\n",
       "      <td>40-44</td>\n",
       "      <td>USA</td>\n",
       "      <td>2022-06-13 00:30:31</td>\n",
       "      <td>2022-06-13 02:17:03</td>\n",
       "      <td>2022-06-13 01:39:23</td>\n",
       "      <td>04:35:1</td>\n",
       "      <td>M</td>\n",
       "      <td>2021</td>\n",
       "    </tr>\n",
       "  </tbody>\n",
       "</table>\n",
       "</div>"
      ],
      "text/plain": [
       "  Overall Rank Gender Rank Divison Rank              Name Age Group  \\\n",
       "0            1           1            1   Martin Gallardo     25-29   \n",
       "1            2           2            1        Brad Miles     30-34   \n",
       "2            3           3            2  Michael Chronert     25-29   \n",
       "3            4           4            3   William Derrick     25-29   \n",
       "4            5           5            1      Ryan Seguine     40-44   \n",
       "\n",
       "  Nationality           Swim Time           Bike Time            Run Time  \\\n",
       "0         ARG 2022-06-13 00:29:20 2022-06-13 02:12:53 2022-06-13 01:25:14   \n",
       "1         USA 2022-06-13 00:30:05 2022-06-13 02:22:37 2022-06-13 01:21:27   \n",
       "2         USA 2022-06-13 00:30:24 2022-06-13 02:11:40 2022-06-13 01:29:44   \n",
       "3         USA 2022-06-13 00:30:18 2022-06-13 02:21:43 2022-06-13 01:33:26   \n",
       "4         USA 2022-06-13 00:30:31 2022-06-13 02:17:03 2022-06-13 01:39:23   \n",
       "\n",
       "  Total Time Sex  Year  \n",
       "0    04:13:3   M  2021  \n",
       "1    04:19:5   M  2021  \n",
       "2    04:20:2   M  2021  \n",
       "3    04:31:5   M  2021  \n",
       "4    04:35:1   M  2021  "
      ]
     },
     "execution_count": 391,
     "metadata": {},
     "output_type": "execute_result"
    }
   ],
   "source": [
    "df.head()"
   ]
  },
  {
   "cell_type": "code",
   "execution_count": 396,
   "metadata": {},
   "outputs": [
    {
     "ename": "SyntaxError",
     "evalue": "keyword argument repeated (<ipython-input-396-1bed16aac38f>, line 15)",
     "output_type": "error",
     "traceback": [
      "\u001b[1;36m  File \u001b[1;32m\"<ipython-input-396-1bed16aac38f>\"\u001b[1;36m, line \u001b[1;32m15\u001b[0m\n\u001b[1;33m    plot = pt.violin(x=df_as['Swim Time'], y=df_as['Bike Time'], y=df_as['Run Time'])\u001b[0m\n\u001b[1;37m                                                                 ^\u001b[0m\n\u001b[1;31mSyntaxError\u001b[0m\u001b[1;31m:\u001b[0m keyword argument repeated\n"
     ]
    }
   ],
   "source": [
    "import plotly.express as pt\n",
    "\n",
    "\n",
    "\n",
    "# fig = pt.violin(df_as, y=\"Swim Time\")\n",
    "# fig.show()\n",
    "\n",
    "# fig = pt.violin(df_as, y=\"Bike Time\")\n",
    "# fig.show()\n",
    "\n",
    "# fig = pt.violin(df_as, y=\"Run Time\")\n",
    "# fig.show()\n",
    "\n",
    "\n",
    "plot = pt.violin(x=df_as['Swim Time'], y=df_as['Bike Time'], y=df_as['Run Time'])\n",
    "plot.show()"
   ]
  },
  {
   "cell_type": "code",
   "execution_count": 416,
   "metadata": {},
   "outputs": [
    {
     "data": {
      "text/html": [
       "<div>\n",
       "<style scoped>\n",
       "    .dataframe tbody tr th:only-of-type {\n",
       "        vertical-align: middle;\n",
       "    }\n",
       "\n",
       "    .dataframe tbody tr th {\n",
       "        vertical-align: top;\n",
       "    }\n",
       "\n",
       "    .dataframe thead th {\n",
       "        text-align: right;\n",
       "    }\n",
       "</style>\n",
       "<table border=\"1\" class=\"dataframe\">\n",
       "  <thead>\n",
       "    <tr style=\"text-align: right;\">\n",
       "      <th></th>\n",
       "      <th>Name</th>\n",
       "      <th>variable</th>\n",
       "      <th>value</th>\n",
       "    </tr>\n",
       "  </thead>\n",
       "  <tbody>\n",
       "    <tr>\n",
       "      <th>0</th>\n",
       "      <td>Isabella Lackner</td>\n",
       "      <td>Swim Time</td>\n",
       "      <td>2022-06-13 00:29:27</td>\n",
       "    </tr>\n",
       "    <tr>\n",
       "      <th>1</th>\n",
       "      <td>Julie Pham</td>\n",
       "      <td>Swim Time</td>\n",
       "      <td>2022-06-13 00:36:53</td>\n",
       "    </tr>\n",
       "    <tr>\n",
       "      <th>2</th>\n",
       "      <td>Aubrie Yarbrough</td>\n",
       "      <td>Swim Time</td>\n",
       "      <td>2022-06-13 00:30:05</td>\n",
       "    </tr>\n",
       "    <tr>\n",
       "      <th>3</th>\n",
       "      <td>Annabella Farabaugh</td>\n",
       "      <td>Swim Time</td>\n",
       "      <td>2022-06-13 00:37:43</td>\n",
       "    </tr>\n",
       "    <tr>\n",
       "      <th>4</th>\n",
       "      <td>Katherine Ahrens</td>\n",
       "      <td>Swim Time</td>\n",
       "      <td>2022-06-13 00:37:46</td>\n",
       "    </tr>\n",
       "    <tr>\n",
       "      <th>...</th>\n",
       "      <td>...</td>\n",
       "      <td>...</td>\n",
       "      <td>...</td>\n",
       "    </tr>\n",
       "    <tr>\n",
       "      <th>99</th>\n",
       "      <td>Rayne Daniel</td>\n",
       "      <td>Total Time</td>\n",
       "      <td>07:54:1</td>\n",
       "    </tr>\n",
       "    <tr>\n",
       "      <th>100</th>\n",
       "      <td>Grace Thompson</td>\n",
       "      <td>Total Time</td>\n",
       "      <td>07:56:5</td>\n",
       "    </tr>\n",
       "    <tr>\n",
       "      <th>101</th>\n",
       "      <td>Kelsey Case</td>\n",
       "      <td>Total Time</td>\n",
       "      <td>08:18:1</td>\n",
       "    </tr>\n",
       "    <tr>\n",
       "      <th>102</th>\n",
       "      <td>Carly Turner</td>\n",
       "      <td>Total Time</td>\n",
       "      <td>08:18:1</td>\n",
       "    </tr>\n",
       "    <tr>\n",
       "      <th>103</th>\n",
       "      <td>Kate Callaghan</td>\n",
       "      <td>Total Time</td>\n",
       "      <td>08:22:1</td>\n",
       "    </tr>\n",
       "  </tbody>\n",
       "</table>\n",
       "<p>104 rows × 3 columns</p>\n",
       "</div>"
      ],
      "text/plain": [
       "                    Name    variable                value\n",
       "0       Isabella Lackner   Swim Time  2022-06-13 00:29:27\n",
       "1             Julie Pham   Swim Time  2022-06-13 00:36:53\n",
       "2       Aubrie Yarbrough   Swim Time  2022-06-13 00:30:05\n",
       "3    Annabella Farabaugh   Swim Time  2022-06-13 00:37:43\n",
       "4       Katherine Ahrens   Swim Time  2022-06-13 00:37:46\n",
       "..                   ...         ...                  ...\n",
       "99          Rayne Daniel  Total Time              07:54:1\n",
       "100       Grace Thompson  Total Time              07:56:5\n",
       "101          Kelsey Case  Total Time              08:18:1\n",
       "102         Carly Turner  Total Time              08:18:1\n",
       "103       Kate Callaghan  Total Time              08:22:1\n",
       "\n",
       "[104 rows x 3 columns]"
      ]
     },
     "execution_count": 416,
     "metadata": {},
     "output_type": "execute_result"
    }
   ],
   "source": [
    "df_long_as = pd.melt(df_as, id_vars='Name', value_vars=['Swim Time','Bike Time', 'Run Time', 'Total Time'])\n",
    "\n",
    "df_long_as"
   ]
  },
  {
   "cell_type": "code",
   "execution_count": 427,
   "metadata": {},
   "outputs": [
    {
     "data": {
      "application/vnd.plotly.v1+json": {
       "config": {
        "plotlyServerURL": "https://plot.ly"
       },
       "data": [
        {
         "alignmentgroup": "True",
         "box": {
          "visible": false
         },
         "hovertemplate": "x=%{x}<br>y=%{y}<extra></extra>",
         "legendgroup": "",
         "marker": {
          "color": "#636efa"
         },
         "name": "",
         "offsetgroup": "",
         "orientation": "v",
         "scalegroup": "True",
         "showlegend": false,
         "type": "violin",
         "x": [
          "Swim Time",
          "Swim Time",
          "Swim Time",
          "Swim Time",
          "Swim Time",
          "Swim Time",
          "Swim Time",
          "Swim Time",
          "Swim Time",
          "Swim Time",
          "Swim Time",
          "Swim Time",
          "Swim Time",
          "Swim Time",
          "Swim Time",
          "Swim Time",
          "Swim Time",
          "Swim Time",
          "Swim Time",
          "Swim Time",
          "Swim Time",
          "Swim Time",
          "Swim Time",
          "Swim Time",
          "Swim Time",
          "Swim Time",
          "Bike Time",
          "Bike Time",
          "Bike Time",
          "Bike Time",
          "Bike Time",
          "Bike Time",
          "Bike Time",
          "Bike Time",
          "Bike Time",
          "Bike Time",
          "Bike Time",
          "Bike Time",
          "Bike Time",
          "Bike Time",
          "Bike Time",
          "Bike Time",
          "Bike Time",
          "Bike Time",
          "Bike Time",
          "Bike Time",
          "Bike Time",
          "Bike Time",
          "Bike Time",
          "Bike Time",
          "Bike Time",
          "Bike Time",
          "Run Time",
          "Run Time",
          "Run Time",
          "Run Time",
          "Run Time",
          "Run Time",
          "Run Time",
          "Run Time",
          "Run Time",
          "Run Time",
          "Run Time",
          "Run Time",
          "Run Time",
          "Run Time",
          "Run Time",
          "Run Time",
          "Run Time",
          "Run Time",
          "Run Time",
          "Run Time",
          "Run Time",
          "Run Time",
          "Run Time",
          "Run Time",
          "Run Time",
          "Run Time",
          "Total Time",
          "Total Time",
          "Total Time",
          "Total Time",
          "Total Time",
          "Total Time",
          "Total Time",
          "Total Time",
          "Total Time",
          "Total Time",
          "Total Time",
          "Total Time",
          "Total Time",
          "Total Time",
          "Total Time",
          "Total Time",
          "Total Time",
          "Total Time",
          "Total Time",
          "Total Time",
          "Total Time",
          "Total Time",
          "Total Time",
          "Total Time",
          "Total Time",
          "Total Time"
         ],
         "x0": " ",
         "xaxis": "x",
         "y": [
          "2022-06-13T00:29:27",
          "2022-06-13T00:36:53",
          "2022-06-13T00:30:05",
          "2022-06-13T00:37:43",
          "2022-06-13T00:37:46",
          "2022-06-13T00:37:46",
          "2022-06-13T00:36:40",
          "2022-06-13T00:43:37",
          "2022-06-13T00:40:01",
          "2022-06-13T00:41:41",
          "2022-06-13T00:29:34",
          "2022-06-13T00:48:06",
          "2022-06-13T00:42:28",
          "2022-06-13T00:48:24",
          "2022-06-13T00:34:55",
          "2022-06-13T00:43:38",
          "2022-06-13T00:38:45",
          "2022-06-13T00:35:36",
          "2022-06-13T00:38:08",
          "2022-06-13T00:53:14",
          "2022-06-13T00:46:30",
          "2022-06-13T00:44:57",
          "2022-06-13T00:45:50",
          "2022-06-13T00:56:45",
          "2022-06-13T00:55:42",
          "2022-06-13T00:38:48",
          "2022-06-13T02:58:22",
          "2022-06-13T02:40:29",
          "2022-06-13T03:01:30",
          "2022-06-13T02:55:28",
          "2022-06-13T03:04:32",
          "2022-06-13T03:03:58",
          "2022-06-13T03:02:39",
          "2022-06-13T03:09:39",
          "2022-06-13T03:30:13",
          "2022-06-13T03:07:34",
          "2022-06-13T03:31:12",
          "2022-06-13T03:27:07",
          "2022-06-13T03:18:29",
          "2022-06-13T03:21:45",
          "2022-06-13T03:06:38",
          "2022-06-13T04:02:40",
          "2022-06-13T03:46:23",
          "2022-06-13T04:09:08",
          "2022-06-13T03:59:24",
          "2022-06-13T03:44:28",
          "2022-06-13T03:42:11",
          "2022-06-13T04:06:25",
          "2022-06-13T04:09:16",
          "2022-06-13T04:13:46",
          "2022-06-13T04:10:07",
          "2022-06-13T04:30:28",
          "2022-06-13T01:50:53",
          "2022-06-13T02:05:39",
          "2022-06-13T01:57:38",
          "2022-06-13T02:12:29",
          "2022-06-13T02:03:55",
          "2022-06-13T02:10:28",
          "2022-06-13T02:19:25",
          "2022-06-13T02:19:04",
          "2022-06-13T01:58:54",
          "2022-06-13T02:42:28",
          "2022-06-13T02:33:37",
          "2022-06-13T02:29:26",
          "2022-06-13T02:45:45",
          "2022-06-13T02:41:01",
          "2022-06-13T03:21:27",
          "2022-06-13T02:10:06",
          "2022-06-13T02:40:48",
          "2022-06-13T02:34:23",
          "2022-06-13T02:40:40",
          "2022-06-13T02:45:33",
          "2022-06-13T03:02:25",
          "2022-06-13T02:48:34",
          "2022-06-13T02:45:59",
          "2022-06-13T02:51:06",
          "2022-06-13T02:51:07",
          "2022-06-13T02:53:49",
          "05:26:4",
          "05:32:3",
          "05:37:3",
          "05:56:1",
          "05:57:2",
          "06:02:5",
          "06:07:0",
          "06:24:3",
          "06:25:3",
          "06:43:3",
          "06:48:0",
          "06:56:4",
          "07:04:3",
          "07:04:3",
          "07:15:1",
          "07:15:3",
          "07:23:4",
          "07:37:5",
          "07:38:5",
          "07:40:4",
          "07:46:3",
          "07:54:1",
          "07:56:5",
          "08:18:1",
          "08:18:1",
          "08:22:1"
         ],
         "y0": " ",
         "yaxis": "y"
        }
       ],
       "layout": {
        "legend": {
         "tracegroupgap": 0
        },
        "margin": {
         "t": 60
        },
        "template": {
         "data": {
          "bar": [
           {
            "error_x": {
             "color": "#2a3f5f"
            },
            "error_y": {
             "color": "#2a3f5f"
            },
            "marker": {
             "line": {
              "color": "#E5ECF6",
              "width": 0.5
             },
             "pattern": {
              "fillmode": "overlay",
              "size": 10,
              "solidity": 0.2
             }
            },
            "type": "bar"
           }
          ],
          "barpolar": [
           {
            "marker": {
             "line": {
              "color": "#E5ECF6",
              "width": 0.5
             },
             "pattern": {
              "fillmode": "overlay",
              "size": 10,
              "solidity": 0.2
             }
            },
            "type": "barpolar"
           }
          ],
          "carpet": [
           {
            "aaxis": {
             "endlinecolor": "#2a3f5f",
             "gridcolor": "white",
             "linecolor": "white",
             "minorgridcolor": "white",
             "startlinecolor": "#2a3f5f"
            },
            "baxis": {
             "endlinecolor": "#2a3f5f",
             "gridcolor": "white",
             "linecolor": "white",
             "minorgridcolor": "white",
             "startlinecolor": "#2a3f5f"
            },
            "type": "carpet"
           }
          ],
          "choropleth": [
           {
            "colorbar": {
             "outlinewidth": 0,
             "ticks": ""
            },
            "type": "choropleth"
           }
          ],
          "contour": [
           {
            "colorbar": {
             "outlinewidth": 0,
             "ticks": ""
            },
            "colorscale": [
             [
              0,
              "#0d0887"
             ],
             [
              0.1111111111111111,
              "#46039f"
             ],
             [
              0.2222222222222222,
              "#7201a8"
             ],
             [
              0.3333333333333333,
              "#9c179e"
             ],
             [
              0.4444444444444444,
              "#bd3786"
             ],
             [
              0.5555555555555556,
              "#d8576b"
             ],
             [
              0.6666666666666666,
              "#ed7953"
             ],
             [
              0.7777777777777778,
              "#fb9f3a"
             ],
             [
              0.8888888888888888,
              "#fdca26"
             ],
             [
              1,
              "#f0f921"
             ]
            ],
            "type": "contour"
           }
          ],
          "contourcarpet": [
           {
            "colorbar": {
             "outlinewidth": 0,
             "ticks": ""
            },
            "type": "contourcarpet"
           }
          ],
          "heatmap": [
           {
            "colorbar": {
             "outlinewidth": 0,
             "ticks": ""
            },
            "colorscale": [
             [
              0,
              "#0d0887"
             ],
             [
              0.1111111111111111,
              "#46039f"
             ],
             [
              0.2222222222222222,
              "#7201a8"
             ],
             [
              0.3333333333333333,
              "#9c179e"
             ],
             [
              0.4444444444444444,
              "#bd3786"
             ],
             [
              0.5555555555555556,
              "#d8576b"
             ],
             [
              0.6666666666666666,
              "#ed7953"
             ],
             [
              0.7777777777777778,
              "#fb9f3a"
             ],
             [
              0.8888888888888888,
              "#fdca26"
             ],
             [
              1,
              "#f0f921"
             ]
            ],
            "type": "heatmap"
           }
          ],
          "heatmapgl": [
           {
            "colorbar": {
             "outlinewidth": 0,
             "ticks": ""
            },
            "colorscale": [
             [
              0,
              "#0d0887"
             ],
             [
              0.1111111111111111,
              "#46039f"
             ],
             [
              0.2222222222222222,
              "#7201a8"
             ],
             [
              0.3333333333333333,
              "#9c179e"
             ],
             [
              0.4444444444444444,
              "#bd3786"
             ],
             [
              0.5555555555555556,
              "#d8576b"
             ],
             [
              0.6666666666666666,
              "#ed7953"
             ],
             [
              0.7777777777777778,
              "#fb9f3a"
             ],
             [
              0.8888888888888888,
              "#fdca26"
             ],
             [
              1,
              "#f0f921"
             ]
            ],
            "type": "heatmapgl"
           }
          ],
          "histogram": [
           {
            "marker": {
             "pattern": {
              "fillmode": "overlay",
              "size": 10,
              "solidity": 0.2
             }
            },
            "type": "histogram"
           }
          ],
          "histogram2d": [
           {
            "colorbar": {
             "outlinewidth": 0,
             "ticks": ""
            },
            "colorscale": [
             [
              0,
              "#0d0887"
             ],
             [
              0.1111111111111111,
              "#46039f"
             ],
             [
              0.2222222222222222,
              "#7201a8"
             ],
             [
              0.3333333333333333,
              "#9c179e"
             ],
             [
              0.4444444444444444,
              "#bd3786"
             ],
             [
              0.5555555555555556,
              "#d8576b"
             ],
             [
              0.6666666666666666,
              "#ed7953"
             ],
             [
              0.7777777777777778,
              "#fb9f3a"
             ],
             [
              0.8888888888888888,
              "#fdca26"
             ],
             [
              1,
              "#f0f921"
             ]
            ],
            "type": "histogram2d"
           }
          ],
          "histogram2dcontour": [
           {
            "colorbar": {
             "outlinewidth": 0,
             "ticks": ""
            },
            "colorscale": [
             [
              0,
              "#0d0887"
             ],
             [
              0.1111111111111111,
              "#46039f"
             ],
             [
              0.2222222222222222,
              "#7201a8"
             ],
             [
              0.3333333333333333,
              "#9c179e"
             ],
             [
              0.4444444444444444,
              "#bd3786"
             ],
             [
              0.5555555555555556,
              "#d8576b"
             ],
             [
              0.6666666666666666,
              "#ed7953"
             ],
             [
              0.7777777777777778,
              "#fb9f3a"
             ],
             [
              0.8888888888888888,
              "#fdca26"
             ],
             [
              1,
              "#f0f921"
             ]
            ],
            "type": "histogram2dcontour"
           }
          ],
          "mesh3d": [
           {
            "colorbar": {
             "outlinewidth": 0,
             "ticks": ""
            },
            "type": "mesh3d"
           }
          ],
          "parcoords": [
           {
            "line": {
             "colorbar": {
              "outlinewidth": 0,
              "ticks": ""
             }
            },
            "type": "parcoords"
           }
          ],
          "pie": [
           {
            "automargin": true,
            "type": "pie"
           }
          ],
          "scatter": [
           {
            "marker": {
             "colorbar": {
              "outlinewidth": 0,
              "ticks": ""
             }
            },
            "type": "scatter"
           }
          ],
          "scatter3d": [
           {
            "line": {
             "colorbar": {
              "outlinewidth": 0,
              "ticks": ""
             }
            },
            "marker": {
             "colorbar": {
              "outlinewidth": 0,
              "ticks": ""
             }
            },
            "type": "scatter3d"
           }
          ],
          "scattercarpet": [
           {
            "marker": {
             "colorbar": {
              "outlinewidth": 0,
              "ticks": ""
             }
            },
            "type": "scattercarpet"
           }
          ],
          "scattergeo": [
           {
            "marker": {
             "colorbar": {
              "outlinewidth": 0,
              "ticks": ""
             }
            },
            "type": "scattergeo"
           }
          ],
          "scattergl": [
           {
            "marker": {
             "colorbar": {
              "outlinewidth": 0,
              "ticks": ""
             }
            },
            "type": "scattergl"
           }
          ],
          "scattermapbox": [
           {
            "marker": {
             "colorbar": {
              "outlinewidth": 0,
              "ticks": ""
             }
            },
            "type": "scattermapbox"
           }
          ],
          "scatterpolar": [
           {
            "marker": {
             "colorbar": {
              "outlinewidth": 0,
              "ticks": ""
             }
            },
            "type": "scatterpolar"
           }
          ],
          "scatterpolargl": [
           {
            "marker": {
             "colorbar": {
              "outlinewidth": 0,
              "ticks": ""
             }
            },
            "type": "scatterpolargl"
           }
          ],
          "scatterternary": [
           {
            "marker": {
             "colorbar": {
              "outlinewidth": 0,
              "ticks": ""
             }
            },
            "type": "scatterternary"
           }
          ],
          "surface": [
           {
            "colorbar": {
             "outlinewidth": 0,
             "ticks": ""
            },
            "colorscale": [
             [
              0,
              "#0d0887"
             ],
             [
              0.1111111111111111,
              "#46039f"
             ],
             [
              0.2222222222222222,
              "#7201a8"
             ],
             [
              0.3333333333333333,
              "#9c179e"
             ],
             [
              0.4444444444444444,
              "#bd3786"
             ],
             [
              0.5555555555555556,
              "#d8576b"
             ],
             [
              0.6666666666666666,
              "#ed7953"
             ],
             [
              0.7777777777777778,
              "#fb9f3a"
             ],
             [
              0.8888888888888888,
              "#fdca26"
             ],
             [
              1,
              "#f0f921"
             ]
            ],
            "type": "surface"
           }
          ],
          "table": [
           {
            "cells": {
             "fill": {
              "color": "#EBF0F8"
             },
             "line": {
              "color": "white"
             }
            },
            "header": {
             "fill": {
              "color": "#C8D4E3"
             },
             "line": {
              "color": "white"
             }
            },
            "type": "table"
           }
          ]
         },
         "layout": {
          "annotationdefaults": {
           "arrowcolor": "#2a3f5f",
           "arrowhead": 0,
           "arrowwidth": 1
          },
          "autotypenumbers": "strict",
          "coloraxis": {
           "colorbar": {
            "outlinewidth": 0,
            "ticks": ""
           }
          },
          "colorscale": {
           "diverging": [
            [
             0,
             "#8e0152"
            ],
            [
             0.1,
             "#c51b7d"
            ],
            [
             0.2,
             "#de77ae"
            ],
            [
             0.3,
             "#f1b6da"
            ],
            [
             0.4,
             "#fde0ef"
            ],
            [
             0.5,
             "#f7f7f7"
            ],
            [
             0.6,
             "#e6f5d0"
            ],
            [
             0.7,
             "#b8e186"
            ],
            [
             0.8,
             "#7fbc41"
            ],
            [
             0.9,
             "#4d9221"
            ],
            [
             1,
             "#276419"
            ]
           ],
           "sequential": [
            [
             0,
             "#0d0887"
            ],
            [
             0.1111111111111111,
             "#46039f"
            ],
            [
             0.2222222222222222,
             "#7201a8"
            ],
            [
             0.3333333333333333,
             "#9c179e"
            ],
            [
             0.4444444444444444,
             "#bd3786"
            ],
            [
             0.5555555555555556,
             "#d8576b"
            ],
            [
             0.6666666666666666,
             "#ed7953"
            ],
            [
             0.7777777777777778,
             "#fb9f3a"
            ],
            [
             0.8888888888888888,
             "#fdca26"
            ],
            [
             1,
             "#f0f921"
            ]
           ],
           "sequentialminus": [
            [
             0,
             "#0d0887"
            ],
            [
             0.1111111111111111,
             "#46039f"
            ],
            [
             0.2222222222222222,
             "#7201a8"
            ],
            [
             0.3333333333333333,
             "#9c179e"
            ],
            [
             0.4444444444444444,
             "#bd3786"
            ],
            [
             0.5555555555555556,
             "#d8576b"
            ],
            [
             0.6666666666666666,
             "#ed7953"
            ],
            [
             0.7777777777777778,
             "#fb9f3a"
            ],
            [
             0.8888888888888888,
             "#fdca26"
            ],
            [
             1,
             "#f0f921"
            ]
           ]
          },
          "colorway": [
           "#636efa",
           "#EF553B",
           "#00cc96",
           "#ab63fa",
           "#FFA15A",
           "#19d3f3",
           "#FF6692",
           "#B6E880",
           "#FF97FF",
           "#FECB52"
          ],
          "font": {
           "color": "#2a3f5f"
          },
          "geo": {
           "bgcolor": "white",
           "lakecolor": "white",
           "landcolor": "#E5ECF6",
           "showlakes": true,
           "showland": true,
           "subunitcolor": "white"
          },
          "hoverlabel": {
           "align": "left"
          },
          "hovermode": "closest",
          "mapbox": {
           "style": "light"
          },
          "paper_bgcolor": "white",
          "plot_bgcolor": "#E5ECF6",
          "polar": {
           "angularaxis": {
            "gridcolor": "white",
            "linecolor": "white",
            "ticks": ""
           },
           "bgcolor": "#E5ECF6",
           "radialaxis": {
            "gridcolor": "white",
            "linecolor": "white",
            "ticks": ""
           }
          },
          "scene": {
           "xaxis": {
            "backgroundcolor": "#E5ECF6",
            "gridcolor": "white",
            "gridwidth": 2,
            "linecolor": "white",
            "showbackground": true,
            "ticks": "",
            "zerolinecolor": "white"
           },
           "yaxis": {
            "backgroundcolor": "#E5ECF6",
            "gridcolor": "white",
            "gridwidth": 2,
            "linecolor": "white",
            "showbackground": true,
            "ticks": "",
            "zerolinecolor": "white"
           },
           "zaxis": {
            "backgroundcolor": "#E5ECF6",
            "gridcolor": "white",
            "gridwidth": 2,
            "linecolor": "white",
            "showbackground": true,
            "ticks": "",
            "zerolinecolor": "white"
           }
          },
          "shapedefaults": {
           "line": {
            "color": "#2a3f5f"
           }
          },
          "ternary": {
           "aaxis": {
            "gridcolor": "white",
            "linecolor": "white",
            "ticks": ""
           },
           "baxis": {
            "gridcolor": "white",
            "linecolor": "white",
            "ticks": ""
           },
           "bgcolor": "#E5ECF6",
           "caxis": {
            "gridcolor": "white",
            "linecolor": "white",
            "ticks": ""
           }
          },
          "title": {
           "x": 0.05
          },
          "xaxis": {
           "automargin": true,
           "gridcolor": "white",
           "linecolor": "white",
           "ticks": "",
           "title": {
            "standoff": 15
           },
           "zerolinecolor": "white",
           "zerolinewidth": 2
          },
          "yaxis": {
           "automargin": true,
           "gridcolor": "white",
           "linecolor": "white",
           "ticks": "",
           "title": {
            "standoff": 15
           },
           "zerolinecolor": "white",
           "zerolinewidth": 2
          }
         }
        },
        "violinmode": "group",
        "xaxis": {
         "anchor": "y",
         "domain": [
          0,
          1
         ],
         "title": {
          "text": "x"
         }
        },
        "yaxis": {
         "anchor": "x",
         "domain": [
          0,
          1
         ],
         "title": {
          "text": "y"
         }
        }
       }
      }
     },
     "metadata": {},
     "output_type": "display_data"
    }
   ],
   "source": [
    "plot = pt.violin(x=df_long_as['variable'], y=df_long_as['value'])\n",
    "plot.show()"
   ]
  }
 ],
 "metadata": {
  "interpreter": {
   "hash": "b5edc5764c906fc959b5e91485a343ba31265720084494adeaf46a66d2ca22ab"
  },
  "kernelspec": {
   "display_name": "Python 3.9.9 64-bit (windows store)",
   "language": "python",
   "name": "python3"
  },
  "language_info": {
   "codemirror_mode": {
    "name": "ipython",
    "version": 3
   },
   "file_extension": ".py",
   "mimetype": "text/x-python",
   "name": "python",
   "nbconvert_exporter": "python",
   "pygments_lexer": "ipython3",
   "version": "3.8.8"
  },
  "orig_nbformat": 4
 },
 "nbformat": 4,
 "nbformat_minor": 2
}
